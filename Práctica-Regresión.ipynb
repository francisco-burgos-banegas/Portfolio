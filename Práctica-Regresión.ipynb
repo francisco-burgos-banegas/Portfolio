{
 "cells": [
  {
   "cell_type": "markdown",
   "id": "03d3cce9",
   "metadata": {},
   "source": [
    "# Práctica 1 - Regresión"
   ]
  },
  {
   "cell_type": "markdown",
   "id": "c5c76dff",
   "metadata": {},
   "source": [
    "En esta práctica se presenta el modelo de regresión más optimizado al que se ha llegado para el caso de estimación de costes médicos de pacientes en hospitales de Estados Unidos y como se ha llegado al mismo."
   ]
  },
  {
   "cell_type": "markdown",
   "id": "a50a47cf",
   "metadata": {},
   "source": [
    "Video explicativo : https://drive.google.com/file/d/1pLuXmXPcRIDzZPx2DJ4tI3bjTxXPHcCV/view?usp=sharing"
   ]
  },
  {
   "cell_type": "markdown",
   "id": "5600d406",
   "metadata": {},
   "source": [
    "### Preparación"
   ]
  },
  {
   "cell_type": "markdown",
   "id": "8940a371",
   "metadata": {},
   "source": [
    "Lo primero de todo es importar los datos y separar la solucion de los datos de entrenamiento. Posteriormente en el paso de validación se utilizará la tecnica de kfold, por lo que por ahora no separamos los datos de entrenamiento en conjunto de entrenamiento y conjunto de test."
   ]
  },
  {
   "cell_type": "code",
   "execution_count": 1,
   "id": "7064bbff",
   "metadata": {},
   "outputs": [],
   "source": [
    "import pandas as pd\n",
    "\n",
    "#Datos de entrenamiento\n",
    "datosTrain = pd.read_csv(\"train.csv\")\n",
    "datosEstudio = datosTrain  #Creamos una copia completa para realizar estudios de las variables\n",
    "\n",
    "#Separación de la solución de los datos de entrenamiento\n",
    "datosCharges = datosTrain[\"charges\"]      \n",
    "datosTrain = datosTrain.drop(['charges'], axis = 1)\n",
    "\n",
    "#Datos a predecir\n",
    "datosTest = pd.read_csv(\"test.csv\")"
   ]
  },
  {
   "cell_type": "markdown",
   "id": "41f1209c",
   "metadata": {},
   "source": [
    "## 1. Preproceso"
   ]
  },
  {
   "cell_type": "code",
   "execution_count": 2,
   "id": "901907e0",
   "metadata": {
    "scrolled": true
   },
   "outputs": [
    {
     "data": {
      "text/html": [
       "<div>\n",
       "<style scoped>\n",
       "    .dataframe tbody tr th:only-of-type {\n",
       "        vertical-align: middle;\n",
       "    }\n",
       "\n",
       "    .dataframe tbody tr th {\n",
       "        vertical-align: top;\n",
       "    }\n",
       "\n",
       "    .dataframe thead th {\n",
       "        text-align: right;\n",
       "    }\n",
       "</style>\n",
       "<table border=\"1\" class=\"dataframe\">\n",
       "  <thead>\n",
       "    <tr style=\"text-align: right;\">\n",
       "      <th></th>\n",
       "      <th>id</th>\n",
       "      <th>age</th>\n",
       "      <th>sex</th>\n",
       "      <th>bmi</th>\n",
       "      <th>children</th>\n",
       "      <th>smoker</th>\n",
       "      <th>region</th>\n",
       "      <th>charges</th>\n",
       "    </tr>\n",
       "  </thead>\n",
       "  <tbody>\n",
       "    <tr>\n",
       "      <th>0</th>\n",
       "      <td>1229</td>\n",
       "      <td>58</td>\n",
       "      <td>male</td>\n",
       "      <td>30.305</td>\n",
       "      <td>0</td>\n",
       "      <td>no</td>\n",
       "      <td>northeast</td>\n",
       "      <td>11938.25595</td>\n",
       "    </tr>\n",
       "    <tr>\n",
       "      <th>1</th>\n",
       "      <td>1073</td>\n",
       "      <td>54</td>\n",
       "      <td>female</td>\n",
       "      <td>28.880</td>\n",
       "      <td>2</td>\n",
       "      <td>no</td>\n",
       "      <td>northeast</td>\n",
       "      <td>12096.65120</td>\n",
       "    </tr>\n",
       "    <tr>\n",
       "      <th>2</th>\n",
       "      <td>768</td>\n",
       "      <td>64</td>\n",
       "      <td>female</td>\n",
       "      <td>39.700</td>\n",
       "      <td>0</td>\n",
       "      <td>no</td>\n",
       "      <td>southwest</td>\n",
       "      <td>14319.03100</td>\n",
       "    </tr>\n",
       "    <tr>\n",
       "      <th>3</th>\n",
       "      <td>606</td>\n",
       "      <td>27</td>\n",
       "      <td>female</td>\n",
       "      <td>25.175</td>\n",
       "      <td>0</td>\n",
       "      <td>no</td>\n",
       "      <td>northeast</td>\n",
       "      <td>3558.62025</td>\n",
       "    </tr>\n",
       "    <tr>\n",
       "      <th>4</th>\n",
       "      <td>342</td>\n",
       "      <td>60</td>\n",
       "      <td>female</td>\n",
       "      <td>27.550</td>\n",
       "      <td>0</td>\n",
       "      <td>no</td>\n",
       "      <td>northeast</td>\n",
       "      <td>13217.09450</td>\n",
       "    </tr>\n",
       "    <tr>\n",
       "      <th>...</th>\n",
       "      <td>...</td>\n",
       "      <td>...</td>\n",
       "      <td>...</td>\n",
       "      <td>...</td>\n",
       "      <td>...</td>\n",
       "      <td>...</td>\n",
       "      <td>...</td>\n",
       "      <td>...</td>\n",
       "    </tr>\n",
       "    <tr>\n",
       "      <th>931</th>\n",
       "      <td>845</td>\n",
       "      <td>60</td>\n",
       "      <td>female</td>\n",
       "      <td>32.450</td>\n",
       "      <td>0</td>\n",
       "      <td>yes</td>\n",
       "      <td>southeast</td>\n",
       "      <td>45008.95550</td>\n",
       "    </tr>\n",
       "    <tr>\n",
       "      <th>932</th>\n",
       "      <td>928</td>\n",
       "      <td>62</td>\n",
       "      <td>female</td>\n",
       "      <td>39.160</td>\n",
       "      <td>0</td>\n",
       "      <td>no</td>\n",
       "      <td>southeast</td>\n",
       "      <td>13470.80440</td>\n",
       "    </tr>\n",
       "    <tr>\n",
       "      <th>933</th>\n",
       "      <td>1091</td>\n",
       "      <td>55</td>\n",
       "      <td>female</td>\n",
       "      <td>29.830</td>\n",
       "      <td>0</td>\n",
       "      <td>no</td>\n",
       "      <td>northeast</td>\n",
       "      <td>11286.53870</td>\n",
       "    </tr>\n",
       "    <tr>\n",
       "      <th>934</th>\n",
       "      <td>1268</td>\n",
       "      <td>20</td>\n",
       "      <td>female</td>\n",
       "      <td>33.300</td>\n",
       "      <td>0</td>\n",
       "      <td>no</td>\n",
       "      <td>southwest</td>\n",
       "      <td>1880.48700</td>\n",
       "    </tr>\n",
       "    <tr>\n",
       "      <th>935</th>\n",
       "      <td>530</td>\n",
       "      <td>57</td>\n",
       "      <td>male</td>\n",
       "      <td>42.130</td>\n",
       "      <td>1</td>\n",
       "      <td>yes</td>\n",
       "      <td>southeast</td>\n",
       "      <td>48675.51770</td>\n",
       "    </tr>\n",
       "  </tbody>\n",
       "</table>\n",
       "<p>936 rows × 8 columns</p>\n",
       "</div>"
      ],
      "text/plain": [
       "       id  age     sex     bmi  children smoker     region      charges\n",
       "0    1229   58    male  30.305         0     no  northeast  11938.25595\n",
       "1    1073   54  female  28.880         2     no  northeast  12096.65120\n",
       "2     768   64  female  39.700         0     no  southwest  14319.03100\n",
       "3     606   27  female  25.175         0     no  northeast   3558.62025\n",
       "4     342   60  female  27.550         0     no  northeast  13217.09450\n",
       "..    ...  ...     ...     ...       ...    ...        ...          ...\n",
       "931   845   60  female  32.450         0    yes  southeast  45008.95550\n",
       "932   928   62  female  39.160         0     no  southeast  13470.80440\n",
       "933  1091   55  female  29.830         0     no  northeast  11286.53870\n",
       "934  1268   20  female  33.300         0     no  southwest   1880.48700\n",
       "935   530   57    male  42.130         1    yes  southeast  48675.51770\n",
       "\n",
       "[936 rows x 8 columns]"
      ]
     },
     "execution_count": 2,
     "metadata": {},
     "output_type": "execute_result"
    }
   ],
   "source": [
    "datosEstudio"
   ]
  },
  {
   "cell_type": "markdown",
   "id": "560a7f21",
   "metadata": {},
   "source": [
    "Viendo los datos que tenemos, hemos de hacer modificaciones para poder pasarselos al modelo, pero antes estudiamos cada característica para ver que modificaciones son necesarias en cada caso.\n",
    "\n",
    "Lo primero es ver como de útil es cada columna de datos, es decir, cuanto influyen en el resultado final de `charges` (el dato a predecir) y para eso vamos a estudiar su correlación."
   ]
  },
  {
   "cell_type": "code",
   "execution_count": 3,
   "id": "dd9da8ab",
   "metadata": {},
   "outputs": [
    {
     "data": {
      "image/png": "[encoded data removed]",
      "text/plain": [
       "<Figure size 864x720 with 2 Axes>"
      ]
     },
     "metadata": {
      "needs_background": "light"
     },
     "output_type": "display_data"
    }
   ],
   "source": [
    "import matplotlib.pyplot as plt\n",
    "import seaborn as sns\n",
    "\n",
    "\n",
    "# Sustituimos los valores categóricos por enteros en función de la categoría\n",
    "datosEstudio['sex'] = datosEstudio['sex'].apply({'male':0,'female':1}.get)\n",
    "datosEstudio['smoker'] = datosEstudio['smoker'].apply({'yes':1, 'no':0}.get)\n",
    "datosEstudio['region'] = datosEstudio['region'].apply({'southwest':1, 'southeast':2, 'northwest':3, 'northeast':4}.get)\n",
    "\n",
    "#Usamos la correlación de Pearson para imprimir una matriz de correlaciones\n",
    "plt.figure(figsize=(12,10))\n",
    "cor = datosEstudio.corr()\n",
    "sns.heatmap(cor, annot=True, cmap=plt.cm.Reds)\n",
    "plt.show()"
   ]
  },
  {
   "cell_type": "markdown",
   "id": "2f209702",
   "metadata": {},
   "source": [
    "Fijandonos en la última columna (o en la última fila) podemos observar el coeficiente de correlación de Pearson de cada una de las otras columnas con `charges` y nos damos cuenta de que `id`, apenas tiene influencia en `charges` (tiene un coeficiente de correlación de 0,0074 muy pequeña) lo cual tiene sentido pues no guarda relación con los datos al tratarse de una característica del dataset para organizar los datos. \n",
    "\n",
    "Sin embargo, una característica que si tendría sentido que estuviera relacionada con `charges` es `region` pero se observa una correlación también muy pequeña (de -0,009), lo cual significa que se podría eliminar dicha columna si se necesitara reducir el numero de características para simplificar el modelo y no afectaría apenas a las predicciones finales. Tras unas cuantas pruebas, se ha decidido dejar la columna `region` en el dataset, pues se obtovieron resultados levemente mejores con dicha característica que sin ella. Lo mismo se ha aplicado a la columna `sex` (que tambien se ha decidido dejar), pues también tiene un coeficiente de correlación muy bajo (-0,062).\n",
    "\n",
    "En cuanto al resto de características, todas tienen un coeficiente de correlación de Pearson más elevado y, por tanto, aportan información relevante al modelo, siendo destacable el caso de la característica `smoker` (con un coeficiente de correlación de 0,78) la cual es la que más fuertemente influencia a `charges`, lo cual tiene sentido en el contexto de la vida real ya que fumar conlleva muchos riesgos para la salud y por ello los fumadores son propensos a tener más gastos médicos."
   ]
  },
  {
   "cell_type": "markdown",
   "id": "b27e53a2",
   "metadata": {},
   "source": [
    "Ya sabemos que podemos eliminar la columna `id`, ahora vamos a ver el resto de características."
   ]
  },
  {
   "cell_type": "markdown",
   "id": "92e4492c",
   "metadata": {},
   "source": [
    "### 1.1 Preproceso de datos continuos"
   ]
  },
  {
   "cell_type": "code",
   "execution_count": 4,
   "id": "1a1dc1c2",
   "metadata": {},
   "outputs": [
    {
     "data": {
      "text/html": [
       "<div>\n",
       "<style scoped>\n",
       "    .dataframe tbody tr th:only-of-type {\n",
       "        vertical-align: middle;\n",
       "    }\n",
       "\n",
       "    .dataframe tbody tr th {\n",
       "        vertical-align: top;\n",
       "    }\n",
       "\n",
       "    .dataframe thead th {\n",
       "        text-align: right;\n",
       "    }\n",
       "</style>\n",
       "<table border=\"1\" class=\"dataframe\">\n",
       "  <thead>\n",
       "    <tr style=\"text-align: right;\">\n",
       "      <th></th>\n",
       "      <th>id</th>\n",
       "      <th>age</th>\n",
       "      <th>bmi</th>\n",
       "      <th>children</th>\n",
       "    </tr>\n",
       "  </thead>\n",
       "  <tbody>\n",
       "    <tr>\n",
       "      <th>count</th>\n",
       "      <td>936.000000</td>\n",
       "      <td>936.000000</td>\n",
       "      <td>936.000000</td>\n",
       "      <td>936.000000</td>\n",
       "    </tr>\n",
       "    <tr>\n",
       "      <th>mean</th>\n",
       "      <td>670.162393</td>\n",
       "      <td>39.201923</td>\n",
       "      <td>30.483323</td>\n",
       "      <td>1.092949</td>\n",
       "    </tr>\n",
       "    <tr>\n",
       "      <th>std</th>\n",
       "      <td>385.864903</td>\n",
       "      <td>13.978319</td>\n",
       "      <td>5.998443</td>\n",
       "      <td>1.194870</td>\n",
       "    </tr>\n",
       "    <tr>\n",
       "      <th>min</th>\n",
       "      <td>0.000000</td>\n",
       "      <td>18.000000</td>\n",
       "      <td>16.815000</td>\n",
       "      <td>0.000000</td>\n",
       "    </tr>\n",
       "    <tr>\n",
       "      <th>25%</th>\n",
       "      <td>333.750000</td>\n",
       "      <td>27.000000</td>\n",
       "      <td>26.125000</td>\n",
       "      <td>0.000000</td>\n",
       "    </tr>\n",
       "    <tr>\n",
       "      <th>50%</th>\n",
       "      <td>673.500000</td>\n",
       "      <td>39.000000</td>\n",
       "      <td>30.250000</td>\n",
       "      <td>1.000000</td>\n",
       "    </tr>\n",
       "    <tr>\n",
       "      <th>75%</th>\n",
       "      <td>1007.500000</td>\n",
       "      <td>51.000000</td>\n",
       "      <td>34.210000</td>\n",
       "      <td>2.000000</td>\n",
       "    </tr>\n",
       "    <tr>\n",
       "      <th>max</th>\n",
       "      <td>1336.000000</td>\n",
       "      <td>64.000000</td>\n",
       "      <td>52.580000</td>\n",
       "      <td>5.000000</td>\n",
       "    </tr>\n",
       "  </tbody>\n",
       "</table>\n",
       "</div>"
      ],
      "text/plain": [
       "                id         age         bmi    children\n",
       "count   936.000000  936.000000  936.000000  936.000000\n",
       "mean    670.162393   39.201923   30.483323    1.092949\n",
       "std     385.864903   13.978319    5.998443    1.194870\n",
       "min       0.000000   18.000000   16.815000    0.000000\n",
       "25%     333.750000   27.000000   26.125000    0.000000\n",
       "50%     673.500000   39.000000   30.250000    1.000000\n",
       "75%    1007.500000   51.000000   34.210000    2.000000\n",
       "max    1336.000000   64.000000   52.580000    5.000000"
      ]
     },
     "execution_count": 4,
     "metadata": {},
     "output_type": "execute_result"
    }
   ],
   "source": [
    "datosTrain.describe()"
   ]
  },
  {
   "cell_type": "markdown",
   "id": "15325f48",
   "metadata": {},
   "source": [
    "Empezando con las características numéricas, necesitamos escalarlas para que todas tengan el mismo rango de valores y que el modelo las interprete de igual manera. "
   ]
  },
  {
   "cell_type": "markdown",
   "id": "f00e34e6",
   "metadata": {},
   "source": [
    "### 1.1.1 Preproceso de `age`"
   ]
  },
  {
   "cell_type": "markdown",
   "id": "c2b85a38",
   "metadata": {},
   "source": [
    "La columna `age` es una variable entera que toma valores positivos del orden de decenas. Vamos a estudiar su normalidad y sus outliers para ver que escalador podría adaptarse mejor."
   ]
  },
  {
   "cell_type": "code",
   "execution_count": 5,
   "id": "6a2e3c64",
   "metadata": {},
   "outputs": [
    {
     "name": "stdout",
     "output_type": "stream",
     "text": [
      "p = 6.27868e-205\n",
      "Se rechaza la hipótesis nula\n"
     ]
    },
    {
     "data": {
      "image/png": "[encoded data removed]",
      "text/plain": [
       "<Figure size 720x360 with 2 Axes>"
      ]
     },
     "metadata": {
      "needs_background": "light"
     },
     "output_type": "display_data"
    }
   ],
   "source": [
    "from scipy import stats\n",
    "\n",
    "fig, (ax1, ax2) = plt.subplots(1, 2, figsize=(10,5))\n",
    "\n",
    "#Distribución de age respecto a charges\n",
    "ax2.scatter(datosEstudio[\"age\"],datosEstudio[\"charges\"])\n",
    "ax2.set_title(\"Distribución de age respecto a charges\")\n",
    "\n",
    "\n",
    "#Histograma para visualizar la distribución de los datos de age\n",
    "ax1.hist(datosEstudio[\"age\"], bins='auto')\n",
    "ax1.set_title(\"Histograma de age\")\n",
    "\n",
    "\n",
    "#Test de normalidad\n",
    "k2, p = stats.normaltest(datosEstudio[\"age\"])\n",
    "alpha = 1e-3\n",
    "print(\"p = {:g}\".format(p))\n",
    "if p < alpha:  # hipótesis nula: age se corresponde con una distribución normal\n",
    "    print(\"Se rechaza la hipótesis nula\")\n",
    "else:\n",
    "    print(\"No se puede rechazar la hipótesis nula\")"
   ]
  },
  {
   "cell_type": "markdown",
   "id": "35e4e4d0",
   "metadata": {},
   "source": [
    "Según los resultados del test de normalidad, `age` no sigue una distribución normal, por lo que no será recomendable elegir escaladores como el `StandardScaler()`. Tambien se observa un gran número de outliers en el gráfico de la derecha, por lo que tampoco parece recomendable utilizar `MinMaxScaler()` y otros escaladores sensibles a la presencia de outliers. Tras este razonamiento y algunas pruebas, se ha llegado a la conclusión de que el escalador que mejor funciona es el `QuantileTransformer()` el cual reduce el impacto de los outliers al ser un esquema de preproceso robusto y no requiere de normalidad para funcionar bien."
   ]
  },
  {
   "cell_type": "markdown",
   "id": "32856356",
   "metadata": {},
   "source": [
    "### 1.1.2 Preproceso de `bmi`"
   ]
  },
  {
   "cell_type": "markdown",
   "id": "500d06af",
   "metadata": {},
   "source": [
    "La columna `bmi` es una variable real que toma valores positivos del orden de decenas. Vamos a estudiar su normalidad y sus outliers para ver que escalador podría adaptarse mejor."
   ]
  },
  {
   "cell_type": "code",
   "execution_count": 6,
   "id": "397e26ee",
   "metadata": {},
   "outputs": [
    {
     "name": "stdout",
     "output_type": "stream",
     "text": [
      "p = 0.00104308\n",
      "No se puede rechazar la hipótesis nula\n"
     ]
    },
    {
     "data": {
      "image/png": "[encoded data removed]",
      "text/plain": [
       "<Figure size 720x360 with 2 Axes>"
      ]
     },
     "metadata": {
      "needs_background": "light"
     },
     "output_type": "display_data"
    }
   ],
   "source": [
    "from scipy import stats\n",
    "\n",
    "fig, (ax1, ax2) = plt.subplots(1, 2, figsize=(10,5))\n",
    "\n",
    "#Distribución de age respecto a charges\n",
    "ax2.scatter(datosEstudio[\"bmi\"],datosEstudio[\"charges\"])\n",
    "ax2.set_title(\"Distribución de bmi respecto a charges\")\n",
    "\n",
    "\n",
    "#Histograma para visualizar la distribución de los datos de age\n",
    "ax1.hist(datosEstudio[\"bmi\"], bins='auto')\n",
    "ax1.set_title(\"Histograma de bmi\")\n",
    "\n",
    "\n",
    "#Test de normalidad\n",
    "k2, p = stats.normaltest(datosEstudio[\"bmi\"])\n",
    "alpha = 1e-3\n",
    "print(\"p = {:g}\".format(p))\n",
    "if p < alpha:  # hipótesis nula: bmi se corresponde con una distribución normal\n",
    "    print(\"Se rechaza la hipótesis nula\")\n",
    "else:\n",
    "    print(\"No se puede rechazar la hipótesis nula\")"
   ]
  },
  {
   "cell_type": "markdown",
   "id": "329487de",
   "metadata": {},
   "source": [
    "Según los resultados del test, `bmi` se acerca un poco a una distribución normal, por lo que podremos probar `StandardScaler()` y otros escaladores que funcionen bien con distribuciones normales. Tambien se observa un gran número de outliers en el gráfico de la derecha, por lo que seguramente no funcionen bien `MinMaxScaler()` y otros escaladores sensibles a la presencia de outliers. Tras este razonamiento y algunas pruebas, se ha llegado a la conclusión de que el escalador que mejor funciona es el `QuantileTransformer()` el cual reduce el impacto de los outliers al ser un esquema de preproceso robusto y a pesar de que escaladores que requieren de una distribucion normal podrían funcionan bien, son mas sensibles a los outliers y acaban dando un resultado peor."
   ]
  },
  {
   "cell_type": "markdown",
   "id": "37596089",
   "metadata": {},
   "source": [
    "### 1.1.3 Preproceso de `children`"
   ]
  },
  {
   "cell_type": "markdown",
   "id": "956288bd",
   "metadata": {},
   "source": [
    "La columna `children` es una variable entera que toma valores positivos del orden de unidades. Vamos a estudiar su normalidad y sus outliers para ver que escalador podría adaptarse mejor."
   ]
  },
  {
   "cell_type": "code",
   "execution_count": 7,
   "id": "a358480f",
   "metadata": {},
   "outputs": [
    {
     "name": "stdout",
     "output_type": "stream",
     "text": [
      "p = 5.48179e-21\n",
      "Se rechaza la hipótesis nula\n"
     ]
    },
    {
     "data": {
      "image/png": "[encoded data removed]",
      "text/plain": [
       "<Figure size 720x360 with 2 Axes>"
      ]
     },
     "metadata": {
      "needs_background": "light"
     },
     "output_type": "display_data"
    }
   ],
   "source": [
    "from scipy import stats\n",
    "\n",
    "fig, (ax1, ax2) = plt.subplots(1, 2, figsize=(10,5))\n",
    "\n",
    "#Distribución de age respecto a charges\n",
    "ax2.scatter(datosEstudio[\"children\"],datosEstudio[\"charges\"])\n",
    "ax2.set_title(\"Distribución de children respecto a charges\")\n",
    "\n",
    "\n",
    "#Histograma para visualizar la distribución de los datos de age\n",
    "ax1.hist(datosEstudio[\"children\"], bins='auto')\n",
    "ax1.set_title(\"Histograma de children\")\n",
    "\n",
    "\n",
    "#Test de normalidad\n",
    "k2, p = stats.normaltest(datosEstudio[\"children\"])\n",
    "alpha = 1e-3\n",
    "print(\"p = {:g}\".format(p))\n",
    "if p < alpha:  # hipótesis nula: bmi se corresponde con una distribución normal\n",
    "    print(\"Se rechaza la hipótesis nula\")\n",
    "else:\n",
    "    print(\"No se puede rechazar la hipótesis nula\")"
   ]
  },
  {
   "cell_type": "markdown",
   "id": "c2f28e7e",
   "metadata": {},
   "source": [
    "Según los resultados del test, `children` no se corresponde con una distribución normal, por lo que podriamos descartar `StandardScaler()` y otros escaladores que funcionen bien con distribuciones normales. Tambien se observa cierta cantidad de outliers en el gráfico de la derecha, por lo que probablemente `MinMaxScaler()` y otros escaladores sensibles a la presencia de outliers no sean los mejores. Tras este razonamiento y algunas pruebas, se ha llegado a la conclusión de que el escalador que mejor funciona es el `RobustTransformer()` el cual reduce el impacto de los outliers al ser un esquema de preproceso robusto y no requiere de normalidad."
   ]
  },
  {
   "cell_type": "markdown",
   "id": "26868495",
   "metadata": {},
   "source": [
    "### 1.2 Preproceso de datos discretos"
   ]
  },
  {
   "cell_type": "markdown",
   "id": "52b55610",
   "metadata": {},
   "source": [
    "Al ser datos categóricos, es necesario codificarlos en forma numérica. Se han estudiado dos opciones, o bien añadir una columna por cada valor posible de la columna a codificar con `OneHotEncoder()` o bien asignarle un numero a cada valor posible con `OrdinalEncoder()`. Tras varias pruebas con distintos modelos se ha visto una calidad cercana entre uno y otro pero, para el modelo elegido, `OrdinalEncoder()` ha mostrado un mejor resultado para `sex`, `smoker` y `region`, probablemente debido a que `OneHotEncoder()` añade más columnas y, por tanto, complejidad al modelo, la cual perjudica su funcionamiento."
   ]
  },
  {
   "cell_type": "markdown",
   "id": "6d4c8d1a",
   "metadata": {},
   "source": [
    "### 1.3 Transformación de los datos"
   ]
  },
  {
   "cell_type": "markdown",
   "id": "e2c9590c",
   "metadata": {},
   "source": [
    "Aplicamos las transformaciones elegidas mediante un `ColumnTransformer()`"
   ]
  },
  {
   "cell_type": "code",
   "execution_count": 8,
   "id": "1cf5af59",
   "metadata": {},
   "outputs": [
    {
     "name": "stderr",
     "output_type": "stream",
     "text": [
      "E:\\Anaconda\\lib\\site-packages\\sklearn\\preprocessing\\_data.py:2612: UserWarning: n_quantiles (1000) is greater than the total number of samples (936). n_quantiles is set to n_samples.\n",
      "  warnings.warn(\"n_quantiles (%s) is greater than the total number \"\n",
      "E:\\Anaconda\\lib\\site-packages\\sklearn\\preprocessing\\_data.py:2612: UserWarning: n_quantiles (1000) is greater than the total number of samples (936). n_quantiles is set to n_samples.\n",
      "  warnings.warn(\"n_quantiles (%s) is greater than the total number \"\n",
      "E:\\Anaconda\\lib\\site-packages\\sklearn\\preprocessing\\_data.py:2612: UserWarning: n_quantiles (1000) is greater than the total number of samples (402). n_quantiles is set to n_samples.\n",
      "  warnings.warn(\"n_quantiles (%s) is greater than the total number \"\n",
      "E:\\Anaconda\\lib\\site-packages\\sklearn\\preprocessing\\_data.py:2612: UserWarning: n_quantiles (1000) is greater than the total number of samples (402). n_quantiles is set to n_samples.\n",
      "  warnings.warn(\"n_quantiles (%s) is greater than the total number \"\n"
     ]
    }
   ],
   "source": [
    "from sklearn import preprocessing\n",
    "import sklearn.compose\n",
    "\n",
    "age_SS = preprocessing.QuantileTransformer()\n",
    "sex_OHE = preprocessing.OrdinalEncoder()\n",
    "bmi_SS = preprocessing.QuantileTransformer()\n",
    "children_SS = preprocessing.RobustScaler()\n",
    "smoker_OHE = preprocessing.OrdinalEncoder()\n",
    "region_OHE = preprocessing.OrdinalEncoder()\n",
    "\n",
    "\n",
    "column_transformer = sklearn.compose.ColumnTransformer(transformers=[\n",
    "    (\"id\",\"drop\",[0]),\n",
    "    (\"age\",age_SS,[1]),\n",
    "    (\"sex\",sex_OHE,[2]),\n",
    "    (\"bmi\",bmi_SS,[3]),\n",
    "    (\"children\",children_SS,[4]),\n",
    "    (\"smoker\",smoker_OHE,[5]),\n",
    "    (\"region\",region_OHE,[6])\n",
    "]);\n",
    "\n",
    "datos_transform_train = column_transformer.fit_transform(datosTrain)\n",
    "datos_transform_test = column_transformer.fit_transform(datosTest)"
   ]
  },
  {
   "cell_type": "markdown",
   "id": "0054586e",
   "metadata": {},
   "source": [
    "## 2. Modelo"
   ]
  },
  {
   "cell_type": "markdown",
   "id": "54002fff",
   "metadata": {},
   "source": [
    "### 2.1 Elección del modelo"
   ]
  },
  {
   "cell_type": "markdown",
   "id": "e71e257b",
   "metadata": {},
   "source": [
    "Para elegir el modelo que mejor resultados puede proporcionar, se ha procedido a realizar pruebas con distintos regresores, siendo estos los mejores resultados:\n",
    "\n",
    "| Regresor | R2 |\n",
    "| :---: | :---: |\n",
    "| Lineal | 0,72657 |\n",
    "| Lineal Ridge Alpha = 15 | 0,72761 |\n",
    "| Lineal Lasso Alpha = 10 | 0,72681 |\n",
    "| Lineal ElasticNet A=15, r=0.999 | 0,72787 |\n",
    "| SGD it=26, r=87 | 0,72700 |\n",
    "| KNN Regressor n=5 distance| 0,72903 |\n",
    "| Polinómico Grado = 2 | 0,82116 |\n",
    "| Polinómico Grado = 3 | 0,82195 |\n",
    "| SGD Polinómico G=2, it=40, r=87 | 0,80718 |\n",
    "\n",
    "Viendo estos resultados, la regresión polinómica presenta una clara ventaja respecto al resto, esto es porque los datos en este problema concreto no parecen ser lineales y una curva se puede ajustar mejor a como estan distribuidos estos datos. Parece que un polinomio de grado 2 o 3 es lo que mejor se ajusta y por tanto es lo que usaremos para este modelo. Un mayor grado no se ajusta tan bien porque el modelo podría estar demasiado adaptado a los datos de entrenamiento (overfitting)."
   ]
  },
  {
   "cell_type": "markdown",
   "id": "ee8d0da8",
   "metadata": {},
   "source": [
    "### 2.2 Regularización y ajuste de hiperparámetros"
   ]
  },
  {
   "cell_type": "markdown",
   "id": "32f89d23",
   "metadata": {},
   "source": [
    "Aun podemos afinar más el modelo si lo regularizamos para reducir el efecto de los outliers. Se ha optado por usar ElasticNet para probar tanto regularización $\\ell1$ como $\\ell2$ y usando `GridSearchCV()` se han buscado los mejores parametros. `GridSearchCV()` usa como metodo de puntuación la media de los R2 obtenidos en un 5-fold."
   ]
  },
  {
   "cell_type": "code",
   "execution_count": 9,
   "id": "2f6fb64d",
   "metadata": {},
   "outputs": [
    {
     "name": "stderr",
     "output_type": "stream",
     "text": [
      "E:\\Anaconda\\lib\\site-packages\\sklearn\\linear_model\\_coordinate_descent.py:530: ConvergenceWarning: Objective did not converge. You might want to increase the number of iterations. Duality gap: 53231093644.64829, tolerance: 11378691.394772697\n",
      "  model = cd_fast.enet_coordinate_descent(\n",
      "E:\\Anaconda\\lib\\site-packages\\sklearn\\linear_model\\_coordinate_descent.py:530: ConvergenceWarning: Objective did not converge. You might want to increase the number of iterations. Duality gap: 53545065901.39141, tolerance: 11383898.187661026\n",
      "  model = cd_fast.enet_coordinate_descent(\n",
      "E:\\Anaconda\\lib\\site-packages\\sklearn\\linear_model\\_coordinate_descent.py:530: ConvergenceWarning: Objective did not converge. You might want to increase the number of iterations. Duality gap: 53491696121.79762, tolerance: 11402872.836628806\n",
      "  model = cd_fast.enet_coordinate_descent(\n",
      "E:\\Anaconda\\lib\\site-packages\\sklearn\\linear_model\\_coordinate_descent.py:530: ConvergenceWarning: Objective did not converge. You might want to increase the number of iterations. Duality gap: 51734049063.3729, tolerance: 10991600.783308903\n",
      "  model = cd_fast.enet_coordinate_descent(\n",
      "E:\\Anaconda\\lib\\site-packages\\sklearn\\linear_model\\_coordinate_descent.py:530: ConvergenceWarning: Objective did not converge. You might want to increase the number of iterations. Duality gap: 52915741004.46812, tolerance: 11274469.049910408\n",
      "  model = cd_fast.enet_coordinate_descent(\n",
      "E:\\Anaconda\\lib\\site-packages\\sklearn\\linear_model\\_coordinate_descent.py:530: ConvergenceWarning: Objective did not converge. You might want to increase the number of iterations. Duality gap: 53532757519.61529, tolerance: 11378691.394772697\n",
      "  model = cd_fast.enet_coordinate_descent(\n",
      "E:\\Anaconda\\lib\\site-packages\\sklearn\\linear_model\\_coordinate_descent.py:530: ConvergenceWarning: Objective did not converge. You might want to increase the number of iterations. Duality gap: 53827714515.46019, tolerance: 11383898.187661026\n",
      "  model = cd_fast.enet_coordinate_descent(\n",
      "E:\\Anaconda\\lib\\site-packages\\sklearn\\linear_model\\_coordinate_descent.py:530: ConvergenceWarning: Objective did not converge. You might want to increase the number of iterations. Duality gap: 53785437462.745674, tolerance: 11402872.836628806\n",
      "  model = cd_fast.enet_coordinate_descent(\n",
      "E:\\Anaconda\\lib\\site-packages\\sklearn\\linear_model\\_coordinate_descent.py:530: ConvergenceWarning: Objective did not converge. You might want to increase the number of iterations. Duality gap: 52004007462.66499, tolerance: 10991600.783308903\n",
      "  model = cd_fast.enet_coordinate_descent(\n",
      "E:\\Anaconda\\lib\\site-packages\\sklearn\\linear_model\\_coordinate_descent.py:530: ConvergenceWarning: Objective did not converge. You might want to increase the number of iterations. Duality gap: 53204990960.622025, tolerance: 11274469.049910408\n",
      "  model = cd_fast.enet_coordinate_descent(\n",
      "E:\\Anaconda\\lib\\site-packages\\sklearn\\linear_model\\_coordinate_descent.py:530: ConvergenceWarning: Objective did not converge. You might want to increase the number of iterations. Duality gap: 53788301814.38024, tolerance: 11378691.394772697\n",
      "  model = cd_fast.enet_coordinate_descent(\n",
      "E:\\Anaconda\\lib\\site-packages\\sklearn\\linear_model\\_coordinate_descent.py:530: ConvergenceWarning: Objective did not converge. You might want to increase the number of iterations. Duality gap: 54066640303.16808, tolerance: 11383898.187661026\n",
      "  model = cd_fast.enet_coordinate_descent(\n",
      "E:\\Anaconda\\lib\\site-packages\\sklearn\\linear_model\\_coordinate_descent.py:530: ConvergenceWarning: Objective did not converge. You might want to increase the number of iterations. Duality gap: 54033925303.61288, tolerance: 11402872.836628806\n",
      "  model = cd_fast.enet_coordinate_descent(\n",
      "E:\\Anaconda\\lib\\site-packages\\sklearn\\linear_model\\_coordinate_descent.py:530: ConvergenceWarning: Objective did not converge. You might want to increase the number of iterations. Duality gap: 52232231398.785065, tolerance: 10991600.783308903\n",
      "  model = cd_fast.enet_coordinate_descent(\n",
      "E:\\Anaconda\\lib\\site-packages\\sklearn\\linear_model\\_coordinate_descent.py:530: ConvergenceWarning: Objective did not converge. You might want to increase the number of iterations. Duality gap: 53449554931.85657, tolerance: 11274469.049910408\n",
      "  model = cd_fast.enet_coordinate_descent(\n",
      "E:\\Anaconda\\lib\\site-packages\\sklearn\\linear_model\\_coordinate_descent.py:530: ConvergenceWarning: Objective did not converge. You might want to increase the number of iterations. Duality gap: 54007573861.15577, tolerance: 11378691.394772697\n",
      "  model = cd_fast.enet_coordinate_descent(\n",
      "E:\\Anaconda\\lib\\site-packages\\sklearn\\linear_model\\_coordinate_descent.py:530: ConvergenceWarning: Objective did not converge. You might want to increase the number of iterations. Duality gap: 54271264713.97128, tolerance: 11383898.187661026\n",
      "  model = cd_fast.enet_coordinate_descent(\n",
      "E:\\Anaconda\\lib\\site-packages\\sklearn\\linear_model\\_coordinate_descent.py:530: ConvergenceWarning: Objective did not converge. You might want to increase the number of iterations. Duality gap: 54246874396.309006, tolerance: 11402872.836628806\n",
      "  model = cd_fast.enet_coordinate_descent(\n",
      "E:\\Anaconda\\lib\\site-packages\\sklearn\\linear_model\\_coordinate_descent.py:530: ConvergenceWarning: Objective did not converge. You might want to increase the number of iterations. Duality gap: 52427707571.186424, tolerance: 10991600.783308903\n",
      "  model = cd_fast.enet_coordinate_descent(\n",
      "E:\\Anaconda\\lib\\site-packages\\sklearn\\linear_model\\_coordinate_descent.py:530: ConvergenceWarning: Objective did not converge. You might want to increase the number of iterations. Duality gap: 53659048430.05866, tolerance: 11274469.049910408\n",
      "  model = cd_fast.enet_coordinate_descent(\n",
      "E:\\Anaconda\\lib\\site-packages\\sklearn\\linear_model\\_coordinate_descent.py:530: ConvergenceWarning: Objective did not converge. You might want to increase the number of iterations. Duality gap: 54197800611.76222, tolerance: 11378691.394772697\n",
      "  model = cd_fast.enet_coordinate_descent(\n",
      "E:\\Anaconda\\lib\\site-packages\\sklearn\\linear_model\\_coordinate_descent.py:530: ConvergenceWarning: Objective did not converge. You might want to increase the number of iterations. Duality gap: 54448482823.36479, tolerance: 11383898.187661026\n",
      "  model = cd_fast.enet_coordinate_descent(\n",
      "E:\\Anaconda\\lib\\site-packages\\sklearn\\linear_model\\_coordinate_descent.py:530: ConvergenceWarning: Objective did not converge. You might want to increase the number of iterations. Duality gap: 54431403501.94253, tolerance: 11402872.836628806\n",
      "  model = cd_fast.enet_coordinate_descent(\n",
      "E:\\Anaconda\\lib\\site-packages\\sklearn\\linear_model\\_coordinate_descent.py:530: ConvergenceWarning: Objective did not converge. You might want to increase the number of iterations. Duality gap: 52597014607.418076, tolerance: 10991600.783308903\n",
      "  model = cd_fast.enet_coordinate_descent(\n",
      "E:\\Anaconda\\lib\\site-packages\\sklearn\\linear_model\\_coordinate_descent.py:530: ConvergenceWarning: Objective did not converge. You might want to increase the number of iterations. Duality gap: 53840512196.04511, tolerance: 11274469.049910408\n",
      "  model = cd_fast.enet_coordinate_descent(\n",
      "E:\\Anaconda\\lib\\site-packages\\sklearn\\linear_model\\_coordinate_descent.py:530: ConvergenceWarning: Objective did not converge. You might want to increase the number of iterations. Duality gap: 54364406489.99354, tolerance: 11378691.394772697\n",
      "  model = cd_fast.enet_coordinate_descent(\n",
      "E:\\Anaconda\\lib\\site-packages\\sklearn\\linear_model\\_coordinate_descent.py:530: ConvergenceWarning: Objective did not converge. You might want to increase the number of iterations. Duality gap: 54603457171.57257, tolerance: 11383898.187661026\n",
      "  model = cd_fast.enet_coordinate_descent(\n",
      "E:\\Anaconda\\lib\\site-packages\\sklearn\\linear_model\\_coordinate_descent.py:530: ConvergenceWarning: Objective did not converge. You might want to increase the number of iterations. Duality gap: 54592848472.575325, tolerance: 11402872.836628806\n",
      "  model = cd_fast.enet_coordinate_descent(\n",
      "E:\\Anaconda\\lib\\site-packages\\sklearn\\linear_model\\_coordinate_descent.py:530: ConvergenceWarning: Objective did not converge. You might want to increase the number of iterations. Duality gap: 52745079200.43263, tolerance: 10991600.783308903\n",
      "  model = cd_fast.enet_coordinate_descent(\n",
      "E:\\Anaconda\\lib\\site-packages\\sklearn\\linear_model\\_coordinate_descent.py:530: ConvergenceWarning: Objective did not converge. You might want to increase the number of iterations. Duality gap: 53999220124.622284, tolerance: 11274469.049910408\n",
      "  model = cd_fast.enet_coordinate_descent(\n"
     ]
    },
    {
     "name": "stderr",
     "output_type": "stream",
     "text": [
      "E:\\Anaconda\\lib\\site-packages\\sklearn\\linear_model\\_coordinate_descent.py:530: ConvergenceWarning: Objective did not converge. You might want to increase the number of iterations. Duality gap: 54511542780.489044, tolerance: 11378691.394772697\n",
      "  model = cd_fast.enet_coordinate_descent(\n",
      "E:\\Anaconda\\lib\\site-packages\\sklearn\\linear_model\\_coordinate_descent.py:530: ConvergenceWarning: Objective did not converge. You might want to increase the number of iterations. Duality gap: 54740129904.98672, tolerance: 11383898.187661026\n",
      "  model = cd_fast.enet_coordinate_descent(\n",
      "E:\\Anaconda\\lib\\site-packages\\sklearn\\linear_model\\_coordinate_descent.py:530: ConvergenceWarning: Objective did not converge. You might want to increase the number of iterations. Duality gap: 54735287677.22615, tolerance: 11402872.836628806\n",
      "  model = cd_fast.enet_coordinate_descent(\n",
      "E:\\Anaconda\\lib\\site-packages\\sklearn\\linear_model\\_coordinate_descent.py:530: ConvergenceWarning: Objective did not converge. You might want to increase the number of iterations. Duality gap: 52875664106.815285, tolerance: 10991600.783308903\n",
      "  model = cd_fast.enet_coordinate_descent(\n",
      "E:\\Anaconda\\lib\\site-packages\\sklearn\\linear_model\\_coordinate_descent.py:530: ConvergenceWarning: Objective did not converge. You might want to increase the number of iterations. Duality gap: 54139200878.90246, tolerance: 11274469.049910408\n",
      "  model = cd_fast.enet_coordinate_descent(\n",
      "E:\\Anaconda\\lib\\site-packages\\sklearn\\linear_model\\_coordinate_descent.py:530: ConvergenceWarning: Objective did not converge. You might want to increase the number of iterations. Duality gap: 54642440707.05194, tolerance: 11378691.394772697\n",
      "  model = cd_fast.enet_coordinate_descent(\n",
      "E:\\Anaconda\\lib\\site-packages\\sklearn\\linear_model\\_coordinate_descent.py:530: ConvergenceWarning: Objective did not converge. You might want to increase the number of iterations. Duality gap: 54861563352.74386, tolerance: 11383898.187661026\n",
      "  model = cd_fast.enet_coordinate_descent(\n",
      "E:\\Anaconda\\lib\\site-packages\\sklearn\\linear_model\\_coordinate_descent.py:530: ConvergenceWarning: Objective did not converge. You might want to increase the number of iterations. Duality gap: 54861891916.02415, tolerance: 11402872.836628806\n",
      "  model = cd_fast.enet_coordinate_descent(\n",
      "E:\\Anaconda\\lib\\site-packages\\sklearn\\linear_model\\_coordinate_descent.py:530: ConvergenceWarning: Objective did not converge. You might want to increase the number of iterations. Duality gap: 52991692770.81825, tolerance: 10991600.783308903\n",
      "  model = cd_fast.enet_coordinate_descent(\n",
      "E:\\Anaconda\\lib\\site-packages\\sklearn\\linear_model\\_coordinate_descent.py:530: ConvergenceWarning: Objective did not converge. You might want to increase the number of iterations. Duality gap: 54263584984.95122, tolerance: 11274469.049910408\n",
      "  model = cd_fast.enet_coordinate_descent(\n",
      "E:\\Anaconda\\lib\\site-packages\\sklearn\\linear_model\\_coordinate_descent.py:530: ConvergenceWarning: Objective did not converge. You might want to increase the number of iterations. Duality gap: 54759653127.63914, tolerance: 11378691.394772697\n",
      "  model = cd_fast.enet_coordinate_descent(\n",
      "E:\\Anaconda\\lib\\site-packages\\sklearn\\linear_model\\_coordinate_descent.py:530: ConvergenceWarning: Objective did not converge. You might want to increase the number of iterations. Duality gap: 54970172556.92921, tolerance: 11383898.187661026\n",
      "  model = cd_fast.enet_coordinate_descent(\n",
      "E:\\Anaconda\\lib\\site-packages\\sklearn\\linear_model\\_coordinate_descent.py:530: ConvergenceWarning: Objective did not converge. You might want to increase the number of iterations. Duality gap: 54975163627.39597, tolerance: 11402872.836628806\n",
      "  model = cd_fast.enet_coordinate_descent(\n",
      "E:\\Anaconda\\lib\\site-packages\\sklearn\\linear_model\\_coordinate_descent.py:530: ConvergenceWarning: Objective did not converge. You might want to increase the number of iterations. Duality gap: 53095471023.80572, tolerance: 10991600.783308903\n",
      "  model = cd_fast.enet_coordinate_descent(\n",
      "E:\\Anaconda\\lib\\site-packages\\sklearn\\linear_model\\_coordinate_descent.py:530: ConvergenceWarning: Objective did not converge. You might want to increase the number of iterations. Duality gap: 54374841940.86662, tolerance: 11274469.049910408\n",
      "  model = cd_fast.enet_coordinate_descent(\n",
      "E:\\Anaconda\\lib\\site-packages\\sklearn\\linear_model\\_coordinate_descent.py:530: ConvergenceWarning: Objective did not converge. You might want to increase the number of iterations. Duality gap: 54865223805.99136, tolerance: 11378691.394772697\n",
      "  model = cd_fast.enet_coordinate_descent(\n",
      "E:\\Anaconda\\lib\\site-packages\\sklearn\\linear_model\\_coordinate_descent.py:530: ConvergenceWarning: Objective did not converge. You might want to increase the number of iterations. Duality gap: 55067887744.77513, tolerance: 11383898.187661026\n",
      "  model = cd_fast.enet_coordinate_descent(\n",
      "E:\\Anaconda\\lib\\site-packages\\sklearn\\linear_model\\_coordinate_descent.py:530: ConvergenceWarning: Objective did not converge. You might want to increase the number of iterations. Duality gap: 55077104212.192154, tolerance: 11402872.836628806\n",
      "  model = cd_fast.enet_coordinate_descent(\n",
      "E:\\Anaconda\\lib\\site-packages\\sklearn\\linear_model\\_coordinate_descent.py:530: ConvergenceWarning: Objective did not converge. You might want to increase the number of iterations. Duality gap: 53188842026.06568, tolerance: 10991600.783308903\n",
      "  model = cd_fast.enet_coordinate_descent(\n",
      "E:\\Anaconda\\lib\\site-packages\\sklearn\\linear_model\\_coordinate_descent.py:530: ConvergenceWarning: Objective did not converge. You might want to increase the number of iterations. Duality gap: 54474945966.477554, tolerance: 11274469.049910408\n",
      "  model = cd_fast.enet_coordinate_descent(\n",
      "E:\\Anaconda\\lib\\site-packages\\sklearn\\linear_model\\_coordinate_descent.py:530: ConvergenceWarning: Objective did not converge. You might want to increase the number of iterations. Duality gap: 54960808382.61663, tolerance: 11378691.394772697\n",
      "  model = cd_fast.enet_coordinate_descent(\n",
      "E:\\Anaconda\\lib\\site-packages\\sklearn\\linear_model\\_coordinate_descent.py:530: ConvergenceWarning: Objective did not converge. You might want to increase the number of iterations. Duality gap: 55156270194.53564, tolerance: 11383898.187661026\n",
      "  model = cd_fast.enet_coordinate_descent(\n",
      "E:\\Anaconda\\lib\\site-packages\\sklearn\\linear_model\\_coordinate_descent.py:530: ConvergenceWarning: Objective did not converge. You might want to increase the number of iterations. Duality gap: 55169333478.35309, tolerance: 11402872.836628806\n",
      "  model = cd_fast.enet_coordinate_descent(\n",
      "E:\\Anaconda\\lib\\site-packages\\sklearn\\linear_model\\_coordinate_descent.py:530: ConvergenceWarning: Objective did not converge. You might want to increase the number of iterations. Duality gap: 53273296785.80316, tolerance: 10991600.783308903\n",
      "  model = cd_fast.enet_coordinate_descent(\n",
      "E:\\Anaconda\\lib\\site-packages\\sklearn\\linear_model\\_coordinate_descent.py:530: ConvergenceWarning: Objective did not converge. You might want to increase the number of iterations. Duality gap: 54565494255.39461, tolerance: 11274469.049910408\n",
      "  model = cd_fast.enet_coordinate_descent(\n",
      "E:\\Anaconda\\lib\\site-packages\\sklearn\\linear_model\\_coordinate_descent.py:530: ConvergenceWarning: Objective did not converge. You might want to increase the number of iterations. Duality gap: 55047762399.94443, tolerance: 11378691.394772697\n",
      "  model = cd_fast.enet_coordinate_descent(\n",
      "E:\\Anaconda\\lib\\site-packages\\sklearn\\linear_model\\_coordinate_descent.py:530: ConvergenceWarning: Objective did not converge. You might want to increase the number of iterations. Duality gap: 55236596383.13963, tolerance: 11383898.187661026\n",
      "  model = cd_fast.enet_coordinate_descent(\n",
      "E:\\Anaconda\\lib\\site-packages\\sklearn\\linear_model\\_coordinate_descent.py:530: ConvergenceWarning: Objective did not converge. You might want to increase the number of iterations. Duality gap: 55253176464.99285, tolerance: 11402872.836628806\n",
      "  model = cd_fast.enet_coordinate_descent(\n",
      "E:\\Anaconda\\lib\\site-packages\\sklearn\\linear_model\\_coordinate_descent.py:530: ConvergenceWarning: Objective did not converge. You might want to increase the number of iterations. Duality gap: 53350054438.622025, tolerance: 10991600.783308903\n",
      "  model = cd_fast.enet_coordinate_descent(\n",
      "E:\\Anaconda\\lib\\site-packages\\sklearn\\linear_model\\_coordinate_descent.py:530: ConvergenceWarning: Objective did not converge. You might want to increase the number of iterations. Duality gap: 54647792886.91452, tolerance: 11274469.049910408\n",
      "  model = cd_fast.enet_coordinate_descent(\n"
     ]
    },
    {
     "name": "stderr",
     "output_type": "stream",
     "text": [
      "E:\\Anaconda\\lib\\site-packages\\sklearn\\linear_model\\_coordinate_descent.py:530: ConvergenceWarning: Objective did not converge. You might want to increase the number of iterations. Duality gap: 55127206398.74631, tolerance: 11378691.394772697\n",
      "  model = cd_fast.enet_coordinate_descent(\n",
      "E:\\Anaconda\\lib\\site-packages\\sklearn\\linear_model\\_coordinate_descent.py:530: ConvergenceWarning: Objective did not converge. You might want to increase the number of iterations. Duality gap: 55309920104.92223, tolerance: 11383898.187661026\n",
      "  model = cd_fast.enet_coordinate_descent(\n",
      "E:\\Anaconda\\lib\\site-packages\\sklearn\\linear_model\\_coordinate_descent.py:530: ConvergenceWarning: Objective did not converge. You might want to increase the number of iterations. Duality gap: 55329727588.43385, tolerance: 11402872.836628806\n",
      "  model = cd_fast.enet_coordinate_descent(\n",
      "E:\\Anaconda\\lib\\site-packages\\sklearn\\linear_model\\_coordinate_descent.py:530: ConvergenceWarning: Objective did not converge. You might want to increase the number of iterations. Duality gap: 53420121520.58254, tolerance: 10991600.783308903\n",
      "  model = cd_fast.enet_coordinate_descent(\n",
      "E:\\Anaconda\\lib\\site-packages\\sklearn\\linear_model\\_coordinate_descent.py:530: ConvergenceWarning: Objective did not converge. You might want to increase the number of iterations. Duality gap: 54722920267.64746, tolerance: 11274469.049910408\n",
      "  model = cd_fast.enet_coordinate_descent(\n",
      "E:\\Anaconda\\lib\\site-packages\\sklearn\\linear_model\\_coordinate_descent.py:530: ConvergenceWarning: Objective did not converge. You might want to increase the number of iterations. Duality gap: 55200074766.16012, tolerance: 11378691.394772697\n",
      "  model = cd_fast.enet_coordinate_descent(\n",
      "E:\\Anaconda\\lib\\site-packages\\sklearn\\linear_model\\_coordinate_descent.py:530: ConvergenceWarning: Objective did not converge. You might want to increase the number of iterations. Duality gap: 55377119009.075325, tolerance: 11383898.187661026\n",
      "  model = cd_fast.enet_coordinate_descent(\n",
      "E:\\Anaconda\\lib\\site-packages\\sklearn\\linear_model\\_coordinate_descent.py:530: ConvergenceWarning: Objective did not converge. You might want to increase the number of iterations. Duality gap: 55399898733.46135, tolerance: 11402872.836628806\n",
      "  model = cd_fast.enet_coordinate_descent(\n",
      "E:\\Anaconda\\lib\\site-packages\\sklearn\\linear_model\\_coordinate_descent.py:530: ConvergenceWarning: Objective did not converge. You might want to increase the number of iterations. Duality gap: 53484336380.34901, tolerance: 10991600.783308903\n",
      "  model = cd_fast.enet_coordinate_descent(\n",
      "E:\\Anaconda\\lib\\site-packages\\sklearn\\linear_model\\_coordinate_descent.py:530: ConvergenceWarning: Objective did not converge. You might want to increase the number of iterations. Duality gap: 54791774673.73012, tolerance: 11274469.049910408\n",
      "  model = cd_fast.enet_coordinate_descent(\n",
      "E:\\Anaconda\\lib\\site-packages\\sklearn\\linear_model\\_coordinate_descent.py:530: ConvergenceWarning: Objective did not converge. You might want to increase the number of iterations. Duality gap: 55267152879.59749, tolerance: 11378691.394772697\n",
      "  model = cd_fast.enet_coordinate_descent(\n",
      "E:\\Anaconda\\lib\\site-packages\\sklearn\\linear_model\\_coordinate_descent.py:530: ConvergenceWarning: Objective did not converge. You might want to increase the number of iterations. Duality gap: 55438929933.01712, tolerance: 11383898.187661026\n",
      "  model = cd_fast.enet_coordinate_descent(\n",
      "E:\\Anaconda\\lib\\site-packages\\sklearn\\linear_model\\_coordinate_descent.py:530: ConvergenceWarning: Objective did not converge. You might want to increase the number of iterations. Duality gap: 55464455790.644714, tolerance: 11402872.836628806\n",
      "  model = cd_fast.enet_coordinate_descent(\n",
      "E:\\Anaconda\\lib\\site-packages\\sklearn\\linear_model\\_coordinate_descent.py:530: ConvergenceWarning: Objective did not converge. You might want to increase the number of iterations. Duality gap: 53543402903.413055, tolerance: 10991600.783308903\n",
      "  model = cd_fast.enet_coordinate_descent(\n",
      "E:\\Anaconda\\lib\\site-packages\\sklearn\\linear_model\\_coordinate_descent.py:530: ConvergenceWarning: Objective did not converge. You might want to increase the number of iterations. Duality gap: 54855110356.38147, tolerance: 11274469.049910408\n",
      "  model = cd_fast.enet_coordinate_descent(\n",
      "E:\\Anaconda\\lib\\site-packages\\sklearn\\linear_model\\_coordinate_descent.py:530: ConvergenceWarning: Objective did not converge. You might want to increase the number of iterations. Duality gap: 55329105693.76104, tolerance: 11378691.394772697\n",
      "  model = cd_fast.enet_coordinate_descent(\n",
      "E:\\Anaconda\\lib\\site-packages\\sklearn\\linear_model\\_coordinate_descent.py:530: ConvergenceWarning: Objective did not converge. You might want to increase the number of iterations. Duality gap: 55495976057.628845, tolerance: 11383898.187661026\n",
      "  model = cd_fast.enet_coordinate_descent(\n",
      "E:\\Anaconda\\lib\\site-packages\\sklearn\\linear_model\\_coordinate_descent.py:530: ConvergenceWarning: Objective did not converge. You might want to increase the number of iterations. Duality gap: 55524046753.90444, tolerance: 11402872.836628806\n",
      "  model = cd_fast.enet_coordinate_descent(\n",
      "E:\\Anaconda\\lib\\site-packages\\sklearn\\linear_model\\_coordinate_descent.py:530: ConvergenceWarning: Objective did not converge. You might want to increase the number of iterations. Duality gap: 53597916433.72766, tolerance: 10991600.783308903\n",
      "  model = cd_fast.enet_coordinate_descent(\n",
      "E:\\Anaconda\\lib\\site-packages\\sklearn\\linear_model\\_coordinate_descent.py:530: ConvergenceWarning: Objective did not converge. You might want to increase the number of iterations. Duality gap: 54913565297.03535, tolerance: 11274469.049910408\n",
      "  model = cd_fast.enet_coordinate_descent(\n",
      "E:\\Anaconda\\lib\\site-packages\\sklearn\\linear_model\\_coordinate_descent.py:530: ConvergenceWarning: Objective did not converge. You might want to increase the number of iterations. Duality gap: 55386499986.3477, tolerance: 11378691.394772697\n",
      "  model = cd_fast.enet_coordinate_descent(\n",
      "E:\\Anaconda\\lib\\site-packages\\sklearn\\linear_model\\_coordinate_descent.py:530: ConvergenceWarning: Objective did not converge. You might want to increase the number of iterations. Duality gap: 55548788010.925316, tolerance: 11383898.187661026\n",
      "  model = cd_fast.enet_coordinate_descent(\n",
      "E:\\Anaconda\\lib\\site-packages\\sklearn\\linear_model\\_coordinate_descent.py:530: ConvergenceWarning: Objective did not converge. You might want to increase the number of iterations. Duality gap: 55579223568.6832, tolerance: 11402872.836628806\n",
      "  model = cd_fast.enet_coordinate_descent(\n",
      "E:\\Anaconda\\lib\\site-packages\\sklearn\\linear_model\\_coordinate_descent.py:530: ConvergenceWarning: Objective did not converge. You might want to increase the number of iterations. Duality gap: 53648383920.85579, tolerance: 10991600.783308903\n",
      "  model = cd_fast.enet_coordinate_descent(\n",
      "E:\\Anaconda\\lib\\site-packages\\sklearn\\linear_model\\_coordinate_descent.py:530: ConvergenceWarning: Objective did not converge. You might want to increase the number of iterations. Duality gap: 54967682781.74578, tolerance: 11274469.049910408\n",
      "  model = cd_fast.enet_coordinate_descent(\n",
      "E:\\Anaconda\\lib\\site-packages\\sklearn\\linear_model\\_coordinate_descent.py:530: ConvergenceWarning: Objective did not converge. You might want to increase the number of iterations. Duality gap: 55439821845.61455, tolerance: 11378691.394772697\n",
      "  model = cd_fast.enet_coordinate_descent(\n",
      "E:\\Anaconda\\lib\\site-packages\\sklearn\\linear_model\\_coordinate_descent.py:530: ConvergenceWarning: Objective did not converge. You might want to increase the number of iterations. Duality gap: 55597820437.33918, tolerance: 11383898.187661026\n",
      "  model = cd_fast.enet_coordinate_descent(\n",
      "E:\\Anaconda\\lib\\site-packages\\sklearn\\linear_model\\_coordinate_descent.py:530: ConvergenceWarning: Objective did not converge. You might want to increase the number of iterations. Duality gap: 55630459294.569786, tolerance: 11402872.836628806\n",
      "  model = cd_fast.enet_coordinate_descent(\n",
      "E:\\Anaconda\\lib\\site-packages\\sklearn\\linear_model\\_coordinate_descent.py:530: ConvergenceWarning: Objective did not converge. You might want to increase the number of iterations. Duality gap: 53695239739.79171, tolerance: 10991600.783308903\n",
      "  model = cd_fast.enet_coordinate_descent(\n",
      "E:\\Anaconda\\lib\\site-packages\\sklearn\\linear_model\\_coordinate_descent.py:530: ConvergenceWarning: Objective did not converge. You might want to increase the number of iterations. Duality gap: 55017928343.27861, tolerance: 11274469.049910408\n",
      "  model = cd_fast.enet_coordinate_descent(\n"
     ]
    },
    {
     "name": "stderr",
     "output_type": "stream",
     "text": [
      "E:\\Anaconda\\lib\\site-packages\\sklearn\\linear_model\\_coordinate_descent.py:530: ConvergenceWarning: Objective did not converge. You might want to increase the number of iterations. Duality gap: 55489490546.700645, tolerance: 11378691.394772697\n",
      "  model = cd_fast.enet_coordinate_descent(\n",
      "E:\\Anaconda\\lib\\site-packages\\sklearn\\linear_model\\_coordinate_descent.py:530: ConvergenceWarning: Objective did not converge. You might want to increase the number of iterations. Duality gap: 55643465130.07356, tolerance: 11383898.187661026\n",
      "  model = cd_fast.enet_coordinate_descent(\n",
      "E:\\Anaconda\\lib\\site-packages\\sklearn\\linear_model\\_coordinate_descent.py:530: ConvergenceWarning: Objective did not converge. You might want to increase the number of iterations. Duality gap: 55678161714.37919, tolerance: 11402872.836628806\n",
      "  model = cd_fast.enet_coordinate_descent(\n",
      "E:\\Anaconda\\lib\\site-packages\\sklearn\\linear_model\\_coordinate_descent.py:530: ConvergenceWarning: Objective did not converge. You might want to increase the number of iterations. Duality gap: 53738858230.420395, tolerance: 10991600.783308903\n",
      "  model = cd_fast.enet_coordinate_descent(\n",
      "E:\\Anaconda\\lib\\site-packages\\sklearn\\linear_model\\_coordinate_descent.py:530: ConvergenceWarning: Objective did not converge. You might want to increase the number of iterations. Duality gap: 55064703191.25939, tolerance: 11274469.049910408\n",
      "  model = cd_fast.enet_coordinate_descent(\n",
      "E:\\Anaconda\\lib\\site-packages\\sklearn\\linear_model\\_coordinate_descent.py:530: ConvergenceWarning: Objective did not converge. You might want to increase the number of iterations. Duality gap: 55535869658.0951, tolerance: 11378691.394772697\n",
      "  model = cd_fast.enet_coordinate_descent(\n",
      "E:\\Anaconda\\lib\\site-packages\\sklearn\\linear_model\\_coordinate_descent.py:530: ConvergenceWarning: Objective did not converge. You might want to increase the number of iterations. Duality gap: 55686061530.54798, tolerance: 11383898.187661026\n",
      "  model = cd_fast.enet_coordinate_descent(\n",
      "E:\\Anaconda\\lib\\site-packages\\sklearn\\linear_model\\_coordinate_descent.py:530: ConvergenceWarning: Objective did not converge. You might want to increase the number of iterations. Duality gap: 55722684219.532135, tolerance: 11402872.836628806\n",
      "  model = cd_fast.enet_coordinate_descent(\n",
      "E:\\Anaconda\\lib\\site-packages\\sklearn\\linear_model\\_coordinate_descent.py:530: ConvergenceWarning: Objective did not converge. You might want to increase the number of iterations. Duality gap: 53779563723.736496, tolerance: 10991600.783308903\n",
      "  model = cd_fast.enet_coordinate_descent(\n",
      "E:\\Anaconda\\lib\\site-packages\\sklearn\\linear_model\\_coordinate_descent.py:530: ConvergenceWarning: Objective did not converge. You might want to increase the number of iterations. Duality gap: 55108354951.39824, tolerance: 11274469.049910408\n",
      "  model = cd_fast.enet_coordinate_descent(\n"
     ]
    },
    {
     "name": "stdout",
     "output_type": "stream",
     "text": [
      "Mejor puntuación:  0.8461268639190319\n",
      "Mejores hiperparámetros:  {'alpha': 16, 'l1_ratio': 1.0}\n"
     ]
    }
   ],
   "source": [
    "import numpy as np\n",
    "from sklearn.model_selection import GridSearchCV\n",
    "from sklearn.preprocessing import PolynomialFeatures\n",
    "from sklearn.linear_model import ElasticNet\n",
    "\n",
    "#Conversión a poliniomio\n",
    "polEN_fit = PolynomialFeatures(degree=2)\n",
    "X = polEN_fit.fit_transform(datos_transform_train)\n",
    "\n",
    "#Búsqueda de los mejores parámetros\n",
    "param_grid = {'alpha': np.arange(10, 30, 1),'l1_ratio': np.arange(0, 1.1, 0.1)} \n",
    "gs = GridSearchCV(ElasticNet(), param_grid)\n",
    "gs.fit(X, datosCharges)\n",
    "print(\"Mejor puntuación: \", gs.best_score_)\n",
    "print(\"Mejores hiperparámetros: \", gs.best_params_)\n"
   ]
  },
  {
   "cell_type": "markdown",
   "id": "68876995",
   "metadata": {},
   "source": [
    "Tras buscar los mejores hiperparámetros se ha llegado a la conclusión de que la regularización $\\ell1$ funciona mucho mejor que la regularización $\\ell2$ ya que el mejor resultado se obtiene balanceando al máximo en favor de $\\ell1$. Los mejores resultados se han obtenido balanceando la regularización con alpha=16, esto puede ser debido a que con más alpha la regularización ajustaría demasiado el modelo a los datos de entrenamiento (overfitting) y menos alpha ocasionaría el efecto contrario (underfitting) al no mitigarse todo lo posible el efecto de los outliers."
   ]
  },
  {
   "cell_type": "markdown",
   "id": "6b70b3f9",
   "metadata": {},
   "source": [
    "### 2.3 Modelo final"
   ]
  },
  {
   "cell_type": "markdown",
   "id": "33c50d89",
   "metadata": {},
   "source": [
    "Tras todos los razonamientos anteriores se ha llegado al siguiente modelo: regresión polinómica regularizada con `ElasticNet()` de parámetros `alpha = 16` y `l1_ratio=1`"
   ]
  },
  {
   "cell_type": "code",
   "execution_count": 10,
   "id": "5cb41e9c",
   "metadata": {},
   "outputs": [],
   "source": [
    "#Hiperparámetros\n",
    "alpha = 16\n",
    "ratio = 1\n",
    "\n",
    "#Conversión a poliniomio\n",
    "polEN_fit = PolynomialFeatures(degree=2)\n",
    "X = polEN_fit.fit_transform(datos_transform_train)\n",
    "\n",
    "#Fit del modelo\n",
    "polEN_reg = ElasticNet(alpha=alpha, l1_ratio=ratio)\n",
    "polEN_reg.fit(X, datosCharges)\n",
    "\n",
    "#Predicción\n",
    "aux = PolynomialFeatures(degree=2).fit_transform(datos_transform_test)\n",
    "prediccion_polEN = polEN_reg.predict(aux)"
   ]
  },
  {
   "cell_type": "code",
   "execution_count": 11,
   "id": "62c4d456",
   "metadata": {},
   "outputs": [],
   "source": [
    "#Preparación y guardado\n",
    "solucion_polEN = pd.DataFrame({'id':datosTest['id'], 'charges': prediccion_polEN})\n",
    "solucion_polEN.to_csv('envio51.txt', sep = ',', index = False)"
   ]
  },
  {
   "cell_type": "markdown",
   "id": "c8a97800",
   "metadata": {},
   "source": [
    "Calificación usando k-fold con los datos de entrenamiento:"
   ]
  },
  {
   "cell_type": "code",
   "execution_count": 14,
   "id": "250c0003",
   "metadata": {},
   "outputs": [
    {
     "name": "stdout",
     "output_type": "stream",
     "text": [
      "Puntuación en cada iteración [0.86012401 0.83670567 0.8473552  0.87699454 0.80945491]\n",
      "R2 medio: 0.8461 (+/- 0.0455)\n"
     ]
    }
   ],
   "source": [
    "from sklearn.model_selection import cross_val_score, KFold\n",
    "\n",
    "cv = KFold(n_splits=5, shuffle=False)\n",
    "scores = cross_val_score(polEN_reg, X, datosCharges, cv=cv, scoring='r2')\n",
    "\n",
    "print(\"Puntuación en cada iteración\", scores)\n",
    "print(\"R2 medio: %0.4f (+/- %0.4f)\" % (scores.mean(), scores.std() * 2))"
   ]
  },
  {
   "cell_type": "markdown",
   "id": "f69e165b",
   "metadata": {},
   "source": [
    "Este modelo ha obtenido una valoracion R2 final de 0.88242 a la hora de predecir los datos objetivo, por lo que se puede considerar como un buen modelo ya que se ha ajustado bien a datos con los que no ha sido entrenado."
   ]
  },
  {
   "cell_type": "markdown",
   "id": "3c0cb61a",
   "metadata": {},
   "source": [
    "Video explicativo : https://drive.google.com/file/d/1pLuXmXPcRIDzZPx2DJ4tI3bjTxXPHcCV/view?usp=sharing\n",
    "\n",
    "Francisco Javier Burgos Banegas - Grupo 25"
   ]
  },
  {
   "cell_type": "code",
   "execution_count": null,
   "id": "34f6117d",
   "metadata": {},
   "outputs": [],
   "source": []
  }
 ],
 "metadata": {
  "kernelspec": {
   "display_name": "Python 3",
   "language": "python",
   "name": "python3"
  },
  "language_info": {
   "codemirror_mode": {
    "name": "ipython",
    "version": 3
   },
   "file_extension": ".py",
   "mimetype": "text/x-python",
   "name": "python",
   "nbconvert_exporter": "python",
   "pygments_lexer": "ipython3",
   "version": "3.8.8"
  }
 },
 "nbformat": 4,
 "nbformat_minor": 5
}
